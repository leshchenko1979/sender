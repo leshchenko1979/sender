{
 "cells": [
  {
   "cell_type": "code",
   "execution_count": 1,
   "metadata": {},
   "outputs": [],
   "source": [
    "%load_ext dotenv"
   ]
  },
  {
   "cell_type": "code",
   "execution_count": 2,
   "metadata": {},
   "outputs": [
    {
     "data": {
      "text/plain": [
       "'701dc790f1cd220691985700bdd9fcb6'"
      ]
     },
     "execution_count": 2,
     "metadata": {},
     "output_type": "execute_result"
    }
   ],
   "source": [
    "import os\n",
    "os.environ[\"API_HASH\"]"
   ]
  },
  {
   "cell_type": "code",
   "execution_count": 3,
   "metadata": {},
   "outputs": [
    {
     "name": "stderr",
     "output_type": "stream",
     "text": [
      "TgCrypto is missing! Pyrogram will work the same, but at a much slower speed. More info: https://docs.pyrogram.org/topics/speedups\n",
      "{\"levelname\": \"INFO\", \"name\": \"httpx\", \"message\": \"HTTP Request: GET https://bvzfbcvzibojlyugqasd.supabase.co/rest/v1/sessions?select=key \\\"HTTP/1.1 200 OK\\\"\", \"taskName\": \"Task-5\", \"logger\": \"httpx\", \"level\": \"INFO\"}\n",
      "{\"levelname\": \"INFO\", \"name\": \"httpx\", \"message\": \"HTTP Request: GET https://bvzfbcvzibojlyugqasd.supabase.co/rest/v1/sessions?select=key \\\"HTTP/1.1 200 OK\\\"\", \"taskName\": \"Task-5\", \"logger\": \"httpx\", \"level\": \"INFO\"}\n",
      "{\"levelname\": \"INFO\", \"name\": \"httpx\", \"message\": \"HTTP Request: GET https://bvzfbcvzibojlyugqasd.supabase.co/rest/v1/sessions?select=value&key=eq.79996500528.session \\\"HTTP/1.1 200 OK\\\"\", \"taskName\": \"Task-5\", \"logger\": \"httpx\", \"level\": \"INFO\"}\n",
      "{\"levelname\": \"INFO\", \"name\": \"httpx\", \"message\": \"HTTP Request: POST https://bvzfbcvzibojlyugqasd.supabase.co/rest/v1/sessions \\\"HTTP/1.1 201 Created\\\"\", \"taskName\": \"Task-5\", \"logger\": \"httpx\", \"level\": \"INFO\"}\n",
      "{\"levelname\": \"INFO\", \"name\": \"pyrogram.connection.connection\", \"message\": \"Connecting...\", \"taskName\": \"Task-5\", \"logger\": \"pyrogram.connection.connection\", \"level\": \"INFO\"}\n",
      "{\"levelname\": \"INFO\", \"name\": \"pyrogram.connection.connection\", \"message\": \"Connected! Production DC2 - IPv4\", \"taskName\": \"Task-5\", \"logger\": \"pyrogram.connection.connection\", \"level\": \"INFO\"}\n",
      "{\"levelname\": \"INFO\", \"name\": \"pyrogram.session.session\", \"message\": \"NetworkTask started\", \"taskName\": \"Task-6\", \"logger\": \"pyrogram.session.session\", \"level\": \"INFO\"}\n",
      "{\"levelname\": \"INFO\", \"name\": \"pyrogram.session.session\", \"message\": \"Session initialized: Layer 158\", \"taskName\": \"Task-5\", \"logger\": \"pyrogram.session.session\", \"level\": \"INFO\"}\n",
      "{\"levelname\": \"INFO\", \"name\": \"pyrogram.session.session\", \"message\": \"Device: CPython 3.12.4 - Pyrogram 2.0.106\", \"taskName\": \"Task-5\", \"logger\": \"pyrogram.session.session\", \"level\": \"INFO\"}\n",
      "{\"levelname\": \"INFO\", \"name\": \"pyrogram.session.session\", \"message\": \"System: Windows 11 (en)\", \"taskName\": \"Task-5\", \"logger\": \"pyrogram.session.session\", \"level\": \"INFO\"}\n",
      "{\"levelname\": \"INFO\", \"name\": \"pyrogram.session.session\", \"message\": \"Session started\", \"taskName\": \"Task-5\", \"logger\": \"pyrogram.session.session\", \"level\": \"INFO\"}\n",
      "{\"levelname\": \"INFO\", \"name\": \"pyrogram.session.session\", \"message\": \"PingTask started\", \"taskName\": \"Task-10\", \"logger\": \"pyrogram.session.session\", \"level\": \"INFO\"}\n"
     ]
    },
    {
     "name": "stdout",
     "output_type": "stream",
     "text": [
      "OK\n"
     ]
    },
    {
     "name": "stderr",
     "output_type": "stream",
     "text": [
      "{\"levelname\": \"INFO\", \"name\": \"httpx\", \"message\": \"HTTP Request: GET https://bvzfbcvzibojlyugqasd.supabase.co/rest/v1/sessions?select=key \\\"HTTP/1.1 200 OK\\\"\", \"taskName\": \"Task-5\", \"logger\": \"httpx\", \"level\": \"INFO\"}\n",
      "{\"levelname\": \"INFO\", \"name\": \"httpx\", \"message\": \"HTTP Request: GET https://bvzfbcvzibojlyugqasd.supabase.co/rest/v1/sessions?select=value&key=eq.79996500528.session \\\"HTTP/1.1 200 OK\\\"\", \"taskName\": \"Task-5\", \"logger\": \"httpx\", \"level\": \"INFO\"}\n",
      "{\"levelname\": \"INFO\", \"name\": \"httpx\", \"message\": \"HTTP Request: POST https://bvzfbcvzibojlyugqasd.supabase.co/rest/v1/sessions \\\"HTTP/1.1 201 Created\\\"\", \"taskName\": \"Task-5\", \"logger\": \"httpx\", \"level\": \"INFO\"}\n",
      "{\"levelname\": \"INFO\", \"name\": \"pyrogram.session.session\", \"message\": \"PingTask stopped\", \"taskName\": \"Task-10\", \"logger\": \"pyrogram.session.session\", \"level\": \"INFO\"}\n",
      "{\"levelname\": \"INFO\", \"name\": \"pyrogram.session.session\", \"message\": \"NetworkTask stopped\", \"taskName\": \"Task-6\", \"logger\": \"pyrogram.session.session\", \"level\": \"INFO\"}\n",
      "{\"levelname\": \"INFO\", \"name\": \"pyrogram.connection.connection\", \"message\": \"Disconnected\", \"taskName\": \"Task-5\", \"logger\": \"pyrogram.connection.connection\", \"level\": \"INFO\"}\n",
      "{\"levelname\": \"INFO\", \"name\": \"pyrogram.session.session\", \"message\": \"Session stopped\", \"taskName\": \"Task-5\", \"logger\": \"pyrogram.session.session\", \"level\": \"INFO\"}\n"
     ]
    }
   ],
   "source": [
    "from sender import set_up_supabase\n",
    "from tg.account.account import Account\n",
    "\n",
    "fs = set_up_supabase()\n",
    "\n",
    "acc = Account(fs, \"79996500528\")\n",
    "async with acc.session(revalidate=True):\n",
    "    print(\"OK\")"
   ]
  },
  {
   "cell_type": "code",
   "execution_count": 5,
   "metadata": {},
   "outputs": [],
   "source": [
    "from settings import Setting\n",
    "from tg.utils import parse_telegram_message_url\n",
    "\n",
    "\n",
    "setting = Setting(\n",
    "    **dict(\n",
    "        active=True,\n",
    "        account=\"79852227949\",\n",
    "        schedule=\"* * * * *\",\n",
    "        chat_id=\"od_sender_alerts\",\n",
    "        text=\"https://t.me/od_sender_alerts/45\",\n",
    "    )\n",
    ")\n",
    "\n",
    "from_chat, message_id = parse_telegram_message_url(setting.text)"
   ]
  },
  {
   "cell_type": "code",
   "execution_count": 6,
   "metadata": {},
   "outputs": [
    {
     "name": "stderr",
     "output_type": "stream",
     "text": [
      "2024-02-03 08:41:03,396:INFO - HTTP Request: GET https://bvzfbcvzibojlyugqasd.supabase.co/rest/v1/sessions?select=key \"HTTP/1.1 200 OK\"\n",
      "2024-02-03 08:41:03,825:INFO - HTTP Request: GET https://bvzfbcvzibojlyugqasd.supabase.co/rest/v1/sessions?select=key \"HTTP/1.1 200 OK\"\n",
      "2024-02-03 08:41:04,261:INFO - HTTP Request: GET https://bvzfbcvzibojlyugqasd.supabase.co/rest/v1/sessions?select=value&key=eq.79852227949.session \"HTTP/1.1 200 OK\"\n",
      "2024-02-03 08:41:04,691:INFO - HTTP Request: POST https://bvzfbcvzibojlyugqasd.supabase.co/rest/v1/sessions \"HTTP/1.1 201 Created\"\n",
      "2024-02-03 08:41:05,143:INFO - Connecting...\n",
      "2024-02-03 08:41:05,185:INFO - Connected! Production DC2 - IPv4\n",
      "2024-02-03 08:41:05,186:INFO - NetworkTask started\n",
      "2024-02-03 08:41:05,449:INFO - Session initialized: Layer 158\n",
      "2024-02-03 08:41:05,450:INFO - Device: CPython 3.12.0 - Pyrogram 2.0.106\n",
      "2024-02-03 08:41:05,451:INFO - System: Windows 11 (en)\n",
      "2024-02-03 08:41:05,451:INFO - Session started\n",
      "2024-02-03 08:41:05,509:INFO - PingTask started\n",
      "2024-02-03 08:41:06,377:INFO - HTTP Request: GET https://bvzfbcvzibojlyugqasd.supabase.co/rest/v1/sessions?select=key \"HTTP/1.1 200 OK\"\n",
      "2024-02-03 08:41:06,821:INFO - HTTP Request: GET https://bvzfbcvzibojlyugqasd.supabase.co/rest/v1/sessions?select=value&key=eq.79852227949.session \"HTTP/1.1 200 OK\"\n",
      "2024-02-03 08:41:07,020:INFO - HTTP Request: POST https://bvzfbcvzibojlyugqasd.supabase.co/rest/v1/sessions \"HTTP/1.1 201 Created\"\n",
      "2024-02-03 08:41:07,088:INFO - PingTask stopped\n",
      "2024-02-03 08:41:07,091:INFO - NetworkTask stopped\n",
      "2024-02-03 08:41:07,091:INFO - Disconnected\n",
      "2024-02-03 08:41:07,092:INFO - Session stopped\n"
     ]
    }
   ],
   "source": [
    "from sender import forward_message\n",
    "\n",
    "\n",
    "async with acc.session(revalidate=False):\n",
    "    await forward_message(acc.app, setting, from_chat, message_id)"
   ]
  }
 ],
 "metadata": {
  "kernelspec": {
   "display_name": "Python 3",
   "language": "python",
   "name": "python3"
  },
  "language_info": {
   "codemirror_mode": {
    "name": "ipython",
    "version": 3
   },
   "file_extension": ".py",
   "mimetype": "text/x-python",
   "name": "python",
   "nbconvert_exporter": "python",
   "pygments_lexer": "ipython3",
   "version": "3.12.4"
  }
 },
 "nbformat": 4,
 "nbformat_minor": 2
}
